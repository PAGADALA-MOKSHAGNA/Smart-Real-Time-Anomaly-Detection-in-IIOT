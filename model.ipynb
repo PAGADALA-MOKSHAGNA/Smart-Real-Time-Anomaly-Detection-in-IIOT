{
 "cells": [
  {
   "cell_type": "markdown",
   "id": "50cd0fbc",
   "metadata": {},
   "source": [
    "## Smart Real-Time Anomaly Detection in IIOT"
   ]
  },
  {
   "cell_type": "markdown",
   "id": "6cc64ef8",
   "metadata": {},
   "source": [
    "### 1. Importing the Data"
   ]
  },
  {
   "cell_type": "code",
   "execution_count": 1,
   "id": "6fb7a044",
   "metadata": {},
   "outputs": [],
   "source": [
    "import numpy as np\n",
    "import pandas as pd\n",
    "import matplotlib.pyplot as plt\n",
    "import seaborn as sns"
   ]
  },
  {
   "cell_type": "code",
   "execution_count": 2,
   "id": "c1f08595",
   "metadata": {},
   "outputs": [
    {
     "data": {
      "application/vnd.microsoft.datawrangler.viewer.v0+json": {
       "columns": [
        {
         "name": "index",
         "rawType": "int64",
         "type": "integer"
        },
        {
         "name": "Date",
         "rawType": "datetime64[ns]",
         "type": "datetime"
        },
        {
         "name": "Time",
         "rawType": "object",
         "type": "unknown"
        },
        {
         "name": "ESP_ms",
         "rawType": "int64",
         "type": "integer"
        },
        {
         "name": "Temperature_C",
         "rawType": "float64",
         "type": "float"
        },
        {
         "name": "Pressure_hPa",
         "rawType": "float64",
         "type": "float"
        },
        {
         "name": "AngleX",
         "rawType": "float64",
         "type": "float"
        },
        {
         "name": "AngleY",
         "rawType": "float64",
         "type": "float"
        },
        {
         "name": "AngleZ",
         "rawType": "float64",
         "type": "float"
        },
        {
         "name": "AccX_g",
         "rawType": "float64",
         "type": "float"
        },
        {
         "name": "AccY_g",
         "rawType": "float64",
         "type": "float"
        },
        {
         "name": "AccZ_g",
         "rawType": "float64",
         "type": "float"
        },
        {
         "name": "Altitude_m",
         "rawType": "float64",
         "type": "float"
        },
        {
         "name": "Result",
         "rawType": "object",
         "type": "string"
        }
       ],
       "ref": "097b9856-1495-4e83-9e3d-2ecfee1bb5ac",
       "rows": [
        [
         "0",
         "2025-09-09 00:00:00",
         "23:51:11.197000",
         "3924",
         "32.64",
         "976.15",
         "-1.1",
         "-0.52",
         "-2.77",
         "0.003",
         "0.006",
         "0.997",
         "313.59",
         "Normal"
        ],
        [
         "1",
         "2025-09-09 00:00:00",
         "23:51:14.191000",
         "6927",
         "32.65",
         "976.15",
         "-1.14",
         "-0.5",
         "-7.57",
         "0.002",
         "-0.002",
         "0.996",
         "313.54",
         "Normal"
        ],
        [
         "2",
         "2025-09-09 00:00:00",
         "23:51:17.192000",
         "9930",
         "32.65",
         "976.18",
         "-1.1",
         "-0.52",
         "-12.4",
         "0.003",
         "0.003",
         "0.989",
         "313.35",
         "Normal"
        ],
        [
         "3",
         "2025-09-09 00:00:00",
         "23:51:20.199000",
         "12933",
         "32.65",
         "976.14",
         "-1.21",
         "-0.54",
         "-17.25",
         "0.0",
         "0.0",
         "0.992",
         "313.62",
         "Normal"
        ],
        [
         "4",
         "2025-09-09 00:00:00",
         "23:51:23.201000",
         "15936",
         "32.65",
         "976.15",
         "-1.15",
         "-0.53",
         "-22.12",
         "0.002",
         "0.003",
         "0.994",
         "313.6",
         "Normal"
        ]
       ],
       "shape": {
        "columns": 13,
        "rows": 5
       }
      },
      "text/html": [
       "<div>\n",
       "<style scoped>\n",
       "    .dataframe tbody tr th:only-of-type {\n",
       "        vertical-align: middle;\n",
       "    }\n",
       "\n",
       "    .dataframe tbody tr th {\n",
       "        vertical-align: top;\n",
       "    }\n",
       "\n",
       "    .dataframe thead th {\n",
       "        text-align: right;\n",
       "    }\n",
       "</style>\n",
       "<table border=\"1\" class=\"dataframe\">\n",
       "  <thead>\n",
       "    <tr style=\"text-align: right;\">\n",
       "      <th></th>\n",
       "      <th>Date</th>\n",
       "      <th>Time</th>\n",
       "      <th>ESP_ms</th>\n",
       "      <th>Temperature_C</th>\n",
       "      <th>Pressure_hPa</th>\n",
       "      <th>AngleX</th>\n",
       "      <th>AngleY</th>\n",
       "      <th>AngleZ</th>\n",
       "      <th>AccX_g</th>\n",
       "      <th>AccY_g</th>\n",
       "      <th>AccZ_g</th>\n",
       "      <th>Altitude_m</th>\n",
       "      <th>Result</th>\n",
       "    </tr>\n",
       "  </thead>\n",
       "  <tbody>\n",
       "    <tr>\n",
       "      <th>0</th>\n",
       "      <td>2025-09-09</td>\n",
       "      <td>23:51:11.197000</td>\n",
       "      <td>3924</td>\n",
       "      <td>32.64</td>\n",
       "      <td>976.15</td>\n",
       "      <td>-1.10</td>\n",
       "      <td>-0.52</td>\n",
       "      <td>-2.77</td>\n",
       "      <td>0.003</td>\n",
       "      <td>0.006</td>\n",
       "      <td>0.997</td>\n",
       "      <td>313.59</td>\n",
       "      <td>Normal</td>\n",
       "    </tr>\n",
       "    <tr>\n",
       "      <th>1</th>\n",
       "      <td>2025-09-09</td>\n",
       "      <td>23:51:14.191000</td>\n",
       "      <td>6927</td>\n",
       "      <td>32.65</td>\n",
       "      <td>976.15</td>\n",
       "      <td>-1.14</td>\n",
       "      <td>-0.50</td>\n",
       "      <td>-7.57</td>\n",
       "      <td>0.002</td>\n",
       "      <td>-0.002</td>\n",
       "      <td>0.996</td>\n",
       "      <td>313.54</td>\n",
       "      <td>Normal</td>\n",
       "    </tr>\n",
       "    <tr>\n",
       "      <th>2</th>\n",
       "      <td>2025-09-09</td>\n",
       "      <td>23:51:17.192000</td>\n",
       "      <td>9930</td>\n",
       "      <td>32.65</td>\n",
       "      <td>976.18</td>\n",
       "      <td>-1.10</td>\n",
       "      <td>-0.52</td>\n",
       "      <td>-12.40</td>\n",
       "      <td>0.003</td>\n",
       "      <td>0.003</td>\n",
       "      <td>0.989</td>\n",
       "      <td>313.35</td>\n",
       "      <td>Normal</td>\n",
       "    </tr>\n",
       "    <tr>\n",
       "      <th>3</th>\n",
       "      <td>2025-09-09</td>\n",
       "      <td>23:51:20.199000</td>\n",
       "      <td>12933</td>\n",
       "      <td>32.65</td>\n",
       "      <td>976.14</td>\n",
       "      <td>-1.21</td>\n",
       "      <td>-0.54</td>\n",
       "      <td>-17.25</td>\n",
       "      <td>0.000</td>\n",
       "      <td>0.000</td>\n",
       "      <td>0.992</td>\n",
       "      <td>313.62</td>\n",
       "      <td>Normal</td>\n",
       "    </tr>\n",
       "    <tr>\n",
       "      <th>4</th>\n",
       "      <td>2025-09-09</td>\n",
       "      <td>23:51:23.201000</td>\n",
       "      <td>15936</td>\n",
       "      <td>32.65</td>\n",
       "      <td>976.15</td>\n",
       "      <td>-1.15</td>\n",
       "      <td>-0.53</td>\n",
       "      <td>-22.12</td>\n",
       "      <td>0.002</td>\n",
       "      <td>0.003</td>\n",
       "      <td>0.994</td>\n",
       "      <td>313.60</td>\n",
       "      <td>Normal</td>\n",
       "    </tr>\n",
       "  </tbody>\n",
       "</table>\n",
       "</div>"
      ],
      "text/plain": [
       "        Date             Time  ESP_ms  Temperature_C  Pressure_hPa  AngleX  \\\n",
       "0 2025-09-09  23:51:11.197000    3924          32.64        976.15   -1.10   \n",
       "1 2025-09-09  23:51:14.191000    6927          32.65        976.15   -1.14   \n",
       "2 2025-09-09  23:51:17.192000    9930          32.65        976.18   -1.10   \n",
       "3 2025-09-09  23:51:20.199000   12933          32.65        976.14   -1.21   \n",
       "4 2025-09-09  23:51:23.201000   15936          32.65        976.15   -1.15   \n",
       "\n",
       "   AngleY  AngleZ  AccX_g  AccY_g  AccZ_g  Altitude_m  Result  \n",
       "0   -0.52   -2.77   0.003   0.006   0.997      313.59  Normal  \n",
       "1   -0.50   -7.57   0.002  -0.002   0.996      313.54  Normal  \n",
       "2   -0.52  -12.40   0.003   0.003   0.989      313.35  Normal  \n",
       "3   -0.54  -17.25   0.000   0.000   0.992      313.62  Normal  \n",
       "4   -0.53  -22.12   0.002   0.003   0.994      313.60  Normal  "
      ]
     },
     "execution_count": 2,
     "metadata": {},
     "output_type": "execute_result"
    }
   ],
   "source": [
    "data = pd.read_excel(\"dataset.xlsx\")\n",
    "data.head()"
   ]
  },
  {
   "cell_type": "code",
   "execution_count": 3,
   "id": "6472e72a",
   "metadata": {},
   "outputs": [
    {
     "data": {
      "text/plain": [
       "Index(['Date', 'Time', 'ESP_ms', 'Temperature_C', 'Pressure_hPa', 'AngleX',\n",
       "       'AngleY', 'AngleZ', 'AccX_g', 'AccY_g', 'AccZ_g', 'Altitude_m',\n",
       "       'Result'],\n",
       "      dtype='object')"
      ]
     },
     "execution_count": 3,
     "metadata": {},
     "output_type": "execute_result"
    }
   ],
   "source": [
    "data.columns"
   ]
  },
  {
   "cell_type": "code",
   "execution_count": 4,
   "id": "2580b56d",
   "metadata": {},
   "outputs": [
    {
     "data": {
      "application/vnd.microsoft.datawrangler.viewer.v0+json": {
       "columns": [
        {
         "name": "index",
         "rawType": "object",
         "type": "string"
        },
        {
         "name": "Date",
         "rawType": "object",
         "type": "unknown"
        },
        {
         "name": "ESP_ms",
         "rawType": "float64",
         "type": "float"
        },
        {
         "name": "Temperature_C",
         "rawType": "float64",
         "type": "float"
        },
        {
         "name": "Pressure_hPa",
         "rawType": "float64",
         "type": "float"
        },
        {
         "name": "AngleX",
         "rawType": "float64",
         "type": "float"
        },
        {
         "name": "AngleY",
         "rawType": "float64",
         "type": "float"
        },
        {
         "name": "AngleZ",
         "rawType": "float64",
         "type": "float"
        },
        {
         "name": "AccX_g",
         "rawType": "float64",
         "type": "float"
        },
        {
         "name": "AccY_g",
         "rawType": "float64",
         "type": "float"
        },
        {
         "name": "AccZ_g",
         "rawType": "float64",
         "type": "float"
        },
        {
         "name": "Altitude_m",
         "rawType": "float64",
         "type": "float"
        }
       ],
       "ref": "7317ead8-456d-4175-9ba3-559bd8f04e00",
       "rows": [
        [
         "count",
         "3491",
         "3491.0",
         "3491.0",
         "3491.0",
         "3491.0",
         "3491.0",
         "3491.0",
         "3491.0",
         "3491.0",
         "3491.0",
         "3491.0"
        ],
        [
         "mean",
         "2025-09-12 10:08:25.299341312",
         "1228076.4270982526",
         "31.560739043254085",
         "972.6587940418217",
         "-1.157000859352621",
         "-0.8999169292466342",
         "-2109.087788599255",
         "0.006334574620452594",
         "0.01016470925236322",
         "0.9736883414494415",
         "340.01025207676884"
        ],
        [
         "min",
         "2025-09-09 00:00:00",
         "3845.0",
         "0.0",
         "0.0",
         "-148.4",
         "-89.32",
         "-5919.26",
         "-2.215",
         "-0.698",
         "-1.945",
         "0.0"
        ],
        [
         "25%",
         "2025-09-10 00:00:00",
         "464892.0",
         "31.72",
         "975.4",
         "-1.44",
         "-3.75",
         "-3113.75",
         "-0.01",
         "-0.004",
         "0.987",
         "315.175"
        ],
        [
         "50%",
         "2025-09-10 00:00:00",
         "1121055.0",
         "32.14",
         "975.72",
         "-1.26",
         "-0.82",
         "-1920.5",
         "0.006",
         "-0.001",
         "0.993",
         "317.26"
        ],
        [
         "75%",
         "2025-09-16 00:00:00",
         "1789215.0",
         "32.35",
         "975.96",
         "-1.11",
         "0.16",
         "-755.1400000000001",
         "0.056",
         "0.002",
         "0.997",
         "319.99"
        ],
        [
         "max",
         "2025-09-17 00:00:00",
         "3340272.0",
         "38.82",
         "998.58",
         "113.3",
         "79.41",
         "21.22",
         "1.785",
         "1.896",
         "2.055",
         "1709.87"
        ],
        [
         "std",
         null,
         "878920.1653130671",
         "2.6671381211672385",
         "30.106108725396012",
         "11.102353090874047",
         "9.084668836713462",
         "1544.7424976151958",
         "0.17374656576915146",
         "0.11640606514907154",
         "0.18314097386484943",
         "175.30733978261105"
        ]
       ],
       "shape": {
        "columns": 11,
        "rows": 8
       }
      },
      "text/html": [
       "<div>\n",
       "<style scoped>\n",
       "    .dataframe tbody tr th:only-of-type {\n",
       "        vertical-align: middle;\n",
       "    }\n",
       "\n",
       "    .dataframe tbody tr th {\n",
       "        vertical-align: top;\n",
       "    }\n",
       "\n",
       "    .dataframe thead th {\n",
       "        text-align: right;\n",
       "    }\n",
       "</style>\n",
       "<table border=\"1\" class=\"dataframe\">\n",
       "  <thead>\n",
       "    <tr style=\"text-align: right;\">\n",
       "      <th></th>\n",
       "      <th>Date</th>\n",
       "      <th>ESP_ms</th>\n",
       "      <th>Temperature_C</th>\n",
       "      <th>Pressure_hPa</th>\n",
       "      <th>AngleX</th>\n",
       "      <th>AngleY</th>\n",
       "      <th>AngleZ</th>\n",
       "      <th>AccX_g</th>\n",
       "      <th>AccY_g</th>\n",
       "      <th>AccZ_g</th>\n",
       "      <th>Altitude_m</th>\n",
       "    </tr>\n",
       "  </thead>\n",
       "  <tbody>\n",
       "    <tr>\n",
       "      <th>count</th>\n",
       "      <td>3491</td>\n",
       "      <td>3.491000e+03</td>\n",
       "      <td>3491.000000</td>\n",
       "      <td>3491.000000</td>\n",
       "      <td>3491.000000</td>\n",
       "      <td>3491.000000</td>\n",
       "      <td>3491.000000</td>\n",
       "      <td>3491.000000</td>\n",
       "      <td>3491.000000</td>\n",
       "      <td>3491.000000</td>\n",
       "      <td>3491.000000</td>\n",
       "    </tr>\n",
       "    <tr>\n",
       "      <th>mean</th>\n",
       "      <td>2025-09-12 10:08:25.299341312</td>\n",
       "      <td>1.228076e+06</td>\n",
       "      <td>31.560739</td>\n",
       "      <td>972.658794</td>\n",
       "      <td>-1.157001</td>\n",
       "      <td>-0.899917</td>\n",
       "      <td>-2109.087789</td>\n",
       "      <td>0.006335</td>\n",
       "      <td>0.010165</td>\n",
       "      <td>0.973688</td>\n",
       "      <td>340.010252</td>\n",
       "    </tr>\n",
       "    <tr>\n",
       "      <th>min</th>\n",
       "      <td>2025-09-09 00:00:00</td>\n",
       "      <td>3.845000e+03</td>\n",
       "      <td>0.000000</td>\n",
       "      <td>0.000000</td>\n",
       "      <td>-148.400000</td>\n",
       "      <td>-89.320000</td>\n",
       "      <td>-5919.260000</td>\n",
       "      <td>-2.215000</td>\n",
       "      <td>-0.698000</td>\n",
       "      <td>-1.945000</td>\n",
       "      <td>0.000000</td>\n",
       "    </tr>\n",
       "    <tr>\n",
       "      <th>25%</th>\n",
       "      <td>2025-09-10 00:00:00</td>\n",
       "      <td>4.648920e+05</td>\n",
       "      <td>31.720000</td>\n",
       "      <td>975.400000</td>\n",
       "      <td>-1.440000</td>\n",
       "      <td>-3.750000</td>\n",
       "      <td>-3113.750000</td>\n",
       "      <td>-0.010000</td>\n",
       "      <td>-0.004000</td>\n",
       "      <td>0.987000</td>\n",
       "      <td>315.175000</td>\n",
       "    </tr>\n",
       "    <tr>\n",
       "      <th>50%</th>\n",
       "      <td>2025-09-10 00:00:00</td>\n",
       "      <td>1.121055e+06</td>\n",
       "      <td>32.140000</td>\n",
       "      <td>975.720000</td>\n",
       "      <td>-1.260000</td>\n",
       "      <td>-0.820000</td>\n",
       "      <td>-1920.500000</td>\n",
       "      <td>0.006000</td>\n",
       "      <td>-0.001000</td>\n",
       "      <td>0.993000</td>\n",
       "      <td>317.260000</td>\n",
       "    </tr>\n",
       "    <tr>\n",
       "      <th>75%</th>\n",
       "      <td>2025-09-16 00:00:00</td>\n",
       "      <td>1.789215e+06</td>\n",
       "      <td>32.350000</td>\n",
       "      <td>975.960000</td>\n",
       "      <td>-1.110000</td>\n",
       "      <td>0.160000</td>\n",
       "      <td>-755.140000</td>\n",
       "      <td>0.056000</td>\n",
       "      <td>0.002000</td>\n",
       "      <td>0.997000</td>\n",
       "      <td>319.990000</td>\n",
       "    </tr>\n",
       "    <tr>\n",
       "      <th>max</th>\n",
       "      <td>2025-09-17 00:00:00</td>\n",
       "      <td>3.340272e+06</td>\n",
       "      <td>38.820000</td>\n",
       "      <td>998.580000</td>\n",
       "      <td>113.300000</td>\n",
       "      <td>79.410000</td>\n",
       "      <td>21.220000</td>\n",
       "      <td>1.785000</td>\n",
       "      <td>1.896000</td>\n",
       "      <td>2.055000</td>\n",
       "      <td>1709.870000</td>\n",
       "    </tr>\n",
       "    <tr>\n",
       "      <th>std</th>\n",
       "      <td>NaN</td>\n",
       "      <td>8.789202e+05</td>\n",
       "      <td>2.667138</td>\n",
       "      <td>30.106109</td>\n",
       "      <td>11.102353</td>\n",
       "      <td>9.084669</td>\n",
       "      <td>1544.742498</td>\n",
       "      <td>0.173747</td>\n",
       "      <td>0.116406</td>\n",
       "      <td>0.183141</td>\n",
       "      <td>175.307340</td>\n",
       "    </tr>\n",
       "  </tbody>\n",
       "</table>\n",
       "</div>"
      ],
      "text/plain": [
       "                                Date        ESP_ms  Temperature_C  \\\n",
       "count                           3491  3.491000e+03    3491.000000   \n",
       "mean   2025-09-12 10:08:25.299341312  1.228076e+06      31.560739   \n",
       "min              2025-09-09 00:00:00  3.845000e+03       0.000000   \n",
       "25%              2025-09-10 00:00:00  4.648920e+05      31.720000   \n",
       "50%              2025-09-10 00:00:00  1.121055e+06      32.140000   \n",
       "75%              2025-09-16 00:00:00  1.789215e+06      32.350000   \n",
       "max              2025-09-17 00:00:00  3.340272e+06      38.820000   \n",
       "std                              NaN  8.789202e+05       2.667138   \n",
       "\n",
       "       Pressure_hPa       AngleX       AngleY       AngleZ       AccX_g  \\\n",
       "count   3491.000000  3491.000000  3491.000000  3491.000000  3491.000000   \n",
       "mean     972.658794    -1.157001    -0.899917 -2109.087789     0.006335   \n",
       "min        0.000000  -148.400000   -89.320000 -5919.260000    -2.215000   \n",
       "25%      975.400000    -1.440000    -3.750000 -3113.750000    -0.010000   \n",
       "50%      975.720000    -1.260000    -0.820000 -1920.500000     0.006000   \n",
       "75%      975.960000    -1.110000     0.160000  -755.140000     0.056000   \n",
       "max      998.580000   113.300000    79.410000    21.220000     1.785000   \n",
       "std       30.106109    11.102353     9.084669  1544.742498     0.173747   \n",
       "\n",
       "            AccY_g       AccZ_g   Altitude_m  \n",
       "count  3491.000000  3491.000000  3491.000000  \n",
       "mean      0.010165     0.973688   340.010252  \n",
       "min      -0.698000    -1.945000     0.000000  \n",
       "25%      -0.004000     0.987000   315.175000  \n",
       "50%      -0.001000     0.993000   317.260000  \n",
       "75%       0.002000     0.997000   319.990000  \n",
       "max       1.896000     2.055000  1709.870000  \n",
       "std       0.116406     0.183141   175.307340  "
      ]
     },
     "execution_count": 4,
     "metadata": {},
     "output_type": "execute_result"
    }
   ],
   "source": [
    "data.describe()"
   ]
  },
  {
   "cell_type": "code",
   "execution_count": 5,
   "id": "bd979d3b",
   "metadata": {},
   "outputs": [
    {
     "data": {
      "application/vnd.microsoft.datawrangler.viewer.v0+json": {
       "columns": [
        {
         "name": "index",
         "rawType": "object",
         "type": "string"
        },
        {
         "name": "0",
         "rawType": "int64",
         "type": "integer"
        }
       ],
       "ref": "82b07d17-21ea-46bc-8b97-9141ebd89be1",
       "rows": [
        [
         "Date",
         "0"
        ],
        [
         "Time",
         "0"
        ],
        [
         "ESP_ms",
         "0"
        ],
        [
         "Temperature_C",
         "0"
        ],
        [
         "Pressure_hPa",
         "0"
        ],
        [
         "AngleX",
         "0"
        ],
        [
         "AngleY",
         "0"
        ],
        [
         "AngleZ",
         "0"
        ],
        [
         "AccX_g",
         "0"
        ],
        [
         "AccY_g",
         "0"
        ],
        [
         "AccZ_g",
         "0"
        ],
        [
         "Altitude_m",
         "0"
        ],
        [
         "Result",
         "0"
        ]
       ],
       "shape": {
        "columns": 1,
        "rows": 13
       }
      },
      "text/plain": [
       "Date             0\n",
       "Time             0\n",
       "ESP_ms           0\n",
       "Temperature_C    0\n",
       "Pressure_hPa     0\n",
       "AngleX           0\n",
       "AngleY           0\n",
       "AngleZ           0\n",
       "AccX_g           0\n",
       "AccY_g           0\n",
       "AccZ_g           0\n",
       "Altitude_m       0\n",
       "Result           0\n",
       "dtype: int64"
      ]
     },
     "execution_count": 5,
     "metadata": {},
     "output_type": "execute_result"
    }
   ],
   "source": [
    "data.isnull().sum()"
   ]
  },
  {
   "cell_type": "code",
   "execution_count": 6,
   "id": "d80f23b9",
   "metadata": {},
   "outputs": [
    {
     "data": {
      "application/vnd.microsoft.datawrangler.viewer.v0+json": {
       "columns": [
        {
         "name": "Result",
         "rawType": "object",
         "type": "string"
        },
        {
         "name": "count",
         "rawType": "int64",
         "type": "integer"
        }
       ],
       "ref": "fe750a97-63ad-4c95-9c70-ec12b7d76729",
       "rows": [
        [
         "Normal",
         "2913"
        ],
        [
         "Anomaly",
         "578"
        ]
       ],
       "shape": {
        "columns": 1,
        "rows": 2
       }
      },
      "text/plain": [
       "Result\n",
       "Normal     2913\n",
       "Anomaly     578\n",
       "Name: count, dtype: int64"
      ]
     },
     "execution_count": 6,
     "metadata": {},
     "output_type": "execute_result"
    }
   ],
   "source": [
    "data['Result'].value_counts()"
   ]
  },
  {
   "cell_type": "markdown",
   "id": "cc92f0b1",
   "metadata": {},
   "source": [
    "### 2. Outlier Detection"
   ]
  },
  {
   "cell_type": "markdown",
   "id": "1817c0d9",
   "metadata": {},
   "source": [
    "Plotting the Box-Plot to identify or evaluate the outliers in the Dataset."
   ]
  },
  {
   "cell_type": "code",
   "execution_count": 7,
   "id": "9d560a8b",
   "metadata": {},
   "outputs": [
    {
     "data": {
      "image/png": "[encoded data removed]",
      "text/plain": [
       "<Figure size 1500x500 with 10 Axes>"
      ]
     },
     "metadata": {},
     "output_type": "display_data"
    }
   ],
   "source": [
    "data.plot(kind='box', subplots=True, layout=(1,len(data.select_dtypes(include='number').columns)), figsize=(15,5))\n",
    "plt.tight_layout()\n",
    "plt.show()"
   ]
  },
  {
   "cell_type": "markdown",
   "id": "132ca826",
   "metadata": {},
   "source": [
    "Since all the Outliers are intentional error and not the Noise obtained due to sensor reading errors, leaving them as it is and proceeding further."
   ]
  },
  {
   "cell_type": "markdown",
   "id": "08a290a5",
   "metadata": {},
   "source": [
    "### 3. Converting Label into Binary."
   ]
  },
  {
   "cell_type": "code",
   "execution_count": 8,
   "id": "93ed75e9",
   "metadata": {},
   "outputs": [
    {
     "name": "stdout",
     "output_type": "stream",
     "text": [
      "Classes found: ['Anomaly', 'Normal']\n",
      "Label counts (original):\n",
      "Label\n",
      "1    2913\n",
      "0     578\n",
      "Name: count, dtype: int64\n"
     ]
    }
   ],
   "source": [
    "from sklearn.preprocessing import StandardScaler, LabelEncoder\n",
    "\n",
    "le = LabelEncoder()\n",
    "data['Label'] = le.fit_transform(data['Result'].astype(str).str.strip())\n",
    "print(\"Classes found:\", list(le.classes_))\n",
    "print(\"Label counts (original):\")\n",
    "print(data[\"Label\"].value_counts())"
   ]
  },
  {
   "cell_type": "markdown",
   "id": "dd63e448",
   "metadata": {},
   "source": [
    "### 4. Feature Selection to Train the Model."
   ]
  },
  {
   "cell_type": "code",
   "execution_count": 9,
   "id": "4a4c7fbf",
   "metadata": {},
   "outputs": [],
   "source": [
    "total_features = [f for f in data.columns]\n",
    "\n",
    "# we doesn't need the Date, Time, ESP_ms, and also the result to detect the Anomaly.\n",
    "excluded = ['Date', 'Time', 'ESP_ms', 'Result']\n",
    "features = [f for f in total_features if f not in excluded]"
   ]
  },
  {
   "cell_type": "code",
   "execution_count": 10,
   "id": "be8f4d2e",
   "metadata": {},
   "outputs": [
    {
     "data": {
      "text/plain": [
       "['Temperature_C',\n",
       " 'Pressure_hPa',\n",
       " 'AngleX',\n",
       " 'AngleY',\n",
       " 'AngleZ',\n",
       " 'AccX_g',\n",
       " 'AccY_g',\n",
       " 'AccZ_g',\n",
       " 'Altitude_m',\n",
       " 'Label']"
      ]
     },
     "execution_count": 10,
     "metadata": {},
     "output_type": "execute_result"
    }
   ],
   "source": [
    "features"
   ]
  },
  {
   "cell_type": "markdown",
   "id": "4de5b213",
   "metadata": {},
   "source": [
    "Plotting the HeatMap to view the Correlations among the attributes."
   ]
  },
  {
   "cell_type": "code",
   "execution_count": 11,
   "id": "014b811c",
   "metadata": {},
   "outputs": [
    {
     "data": {
      "image/png": "[encoded data removed]",
      "text/plain": [
       "<Figure size 1200x800 with 2 Axes>"
      ]
     },
     "metadata": {},
     "output_type": "display_data"
    }
   ],
   "source": [
    "corr = data[features].corr()\n",
    "# Plot heatmap\n",
    "plt.figure(figsize=(12, 8))\n",
    "sns.heatmap(\n",
    "    corr,\n",
    "    annot=True,          # show correlation values\n",
    "    fmt=\".2f\",           # 2 decimal places\n",
    "    cmap=\"coolwarm\",     # color scheme\n",
    "    cbar=True,           # show color bar\n",
    "    square=True,         # square cells\n",
    "    linewidths=0.5       # grid lines\n",
    ")\n",
    "plt.title(\"Correlation Heatmap of Sensor Data\", fontsize=16)\n",
    "plt.tight_layout()\n",
    "plt.show()"
   ]
  },
  {
   "cell_type": "markdown",
   "id": "f9dd52ec",
   "metadata": {},
   "source": [
    "Since all the Attributes shows atleast minor correlation to the result, in future there might be a possibility of dropping the Altitude since, it is inverse of pressure."
   ]
  },
  {
   "cell_type": "markdown",
   "id": "bb61ea71",
   "metadata": {},
   "source": [
    "### 5. Applying SMOTE."
   ]
  },
  {
   "cell_type": "markdown",
   "id": "b510d331",
   "metadata": {},
   "source": [
    "Applying the Synthetic Minority Oversampling Technique to increase the number of anomalies in the training dataset to make the model more robust enough and to handle the class imbalance."
   ]
  },
  {
   "cell_type": "markdown",
   "id": "77018677",
   "metadata": {},
   "source": [
    "Train and Test Split - 80 & 20 %"
   ]
  },
  {
   "cell_type": "code",
   "execution_count": 12,
   "id": "ece31c72",
   "metadata": {},
   "outputs": [],
   "source": [
    "X = data[features].copy()\n",
    "y = data['Label'].copy()\n",
    "\n",
    "from sklearn.model_selection import train_test_split\n",
    "\n",
    "X_train, X_test, y_train, y_test = train_test_split(\n",
    "    X, y, test_size=0.20, random_state=42, stratify=y\n",
    ")"
   ]
  },
  {
   "cell_type": "code",
   "execution_count": 13,
   "id": "3c43c000",
   "metadata": {},
   "outputs": [
    {
     "name": "stdout",
     "output_type": "stream",
     "text": [
      "Train shape: (2792, 10) & Test shape: (699, 10)\n"
     ]
    }
   ],
   "source": [
    "print(\"Train shape:\", X_train.shape, \"& Test shape:\", X_test.shape)"
   ]
  },
  {
   "cell_type": "code",
   "execution_count": 14,
   "id": "70f70a87",
   "metadata": {},
   "outputs": [],
   "source": [
    "# Desired Anomaly Count - 30%\n",
    "import math\n",
    "\n",
    "nmaj = np.sum(y_train == 1)\n",
    "nmin = np.sum(y_train == 0)\n",
    "desired_minority = math.ceil((0.30 * nmaj) / (1 - 0.30))"
   ]
  },
  {
   "cell_type": "code",
   "execution_count": 15,
   "id": "2a4dc246",
   "metadata": {},
   "outputs": [
    {
     "name": "stdout",
     "output_type": "stream",
     "text": [
      "Training Normal: 2330, Anomaly: 462, target Anomaly after SMOTE: 999\n"
     ]
    }
   ],
   "source": [
    "print(f\"Training Normal: {nmaj}, Anomaly: {nmin}, target Anomaly after SMOTE: {desired_minority}\")"
   ]
  },
  {
   "cell_type": "code",
   "execution_count": 16,
   "id": "d8b7761e",
   "metadata": {},
   "outputs": [],
   "source": [
    "# Scaling before applying SMOTE\n",
    "\n",
    "scaler = StandardScaler()\n",
    "X_train_scaled = scaler.fit_transform(X_train)\n",
    "X_test_scaled = scaler.transform(X_test)"
   ]
  },
  {
   "cell_type": "code",
   "execution_count": 17,
   "id": "fe4ea4be",
   "metadata": {},
   "outputs": [],
   "source": [
    "from imblearn.over_sampling import SMOTE\n",
    "from sklearn.neighbors import NearestNeighbors\n",
    "\n",
    "minor_label = 0\n",
    "nn = NearestNeighbors(n_neighbors=5, n_jobs=-1)\n",
    "sampling_strategy = {minor_label: desired_minority}\n",
    "sm = SMOTE(sampling_strategy=sampling_strategy, random_state=42, k_neighbors=nn)\n",
    "X_resampled, y_resampled = sm.fit_resample(X_train_scaled, y_train.values)"
   ]
  },
  {
   "cell_type": "code",
   "execution_count": 18,
   "id": "c4edbf81",
   "metadata": {},
   "outputs": [
    {
     "name": "stdout",
     "output_type": "stream",
     "text": [
      "Resampled label counts: [ 999 2330]\n"
     ]
    }
   ],
   "source": [
    "print(\"Resampled label counts:\", np.bincount(y_resampled))"
   ]
  },
  {
   "cell_type": "code",
   "execution_count": 19,
   "id": "0cf534b7",
   "metadata": {},
   "outputs": [
    {
     "name": "stdout",
     "output_type": "stream",
     "text": [
      "Wrote resampled training CSV to: mod_train.csv\n"
     ]
    }
   ],
   "source": [
    "X_resampled_unscaled = scaler.inverse_transform(X_resampled)\n",
    "data_resampled_train = pd.DataFrame(X_resampled_unscaled, columns=features)\n",
    "data_resampled_train[\"label\"] = y_resampled\n",
    "MOD_CSV_PATH = r\"mod_train.csv\"\n",
    "data_resampled_train.to_csv(MOD_CSV_PATH, index=False)\n",
    "print(\"Wrote resampled training CSV to:\", MOD_CSV_PATH)"
   ]
  },
  {
   "cell_type": "code",
   "execution_count": 20,
   "id": "72efbb30",
   "metadata": {},
   "outputs": [
    {
     "name": "stdout",
     "output_type": "stream",
     "text": [
      "Wrote test CSV to: test.csv\n"
     ]
    }
   ],
   "source": [
    "data_test = X_test.copy()\n",
    "data_test[\"label\"] = y_test.values\n",
    "MOD_CSV_TEST_PATH = r\"test.csv\"\n",
    "data_test.to_csv(MOD_CSV_TEST_PATH, index=False)\n",
    "print(\"Wrote test CSV to:\", MOD_CSV_TEST_PATH)"
   ]
  },
  {
   "cell_type": "markdown",
   "id": "5d4bdc9a",
   "metadata": {},
   "source": [
    "### 6. Model Building"
   ]
  },
  {
   "cell_type": "markdown",
   "id": "5c0a4ecd",
   "metadata": {},
   "source": [
    "Planned to proceed with Random Forest and XGBoost method."
   ]
  },
  {
   "cell_type": "code",
   "execution_count": 21,
   "id": "d530a293",
   "metadata": {},
   "outputs": [],
   "source": [
    "from sklearn.metrics import classification_report, confusion_matrix, roc_auc_score\n",
    "from sklearn.ensemble import RandomForestClassifier"
   ]
  },
  {
   "cell_type": "code",
   "execution_count": 22,
   "id": "b6a44e4a",
   "metadata": {},
   "outputs": [],
   "source": [
    "train_df = pd.read_csv(\"mod_train.csv\")\n",
    "test_df  = pd.read_csv(\"test.csv\")"
   ]
  },
  {
   "cell_type": "code",
   "execution_count": 23,
   "id": "87abb703",
   "metadata": {},
   "outputs": [],
   "source": [
    "X_train, y_train = train_df.drop(columns=[\"label\",\"Label\"], errors=\"ignore\"), train_df[\"label\"]\n",
    "X_test, y_test   = test_df.drop(columns=[\"label\",\"Label\"], errors=\"ignore\"), test_df[\"label\"]"
   ]
  },
  {
   "cell_type": "code",
   "execution_count": 24,
   "id": "1cebe6bf",
   "metadata": {},
   "outputs": [],
   "source": [
    "rf = RandomForestClassifier(\n",
    "    n_estimators=200,\n",
    "    max_depth=None,\n",
    "    random_state=42,\n",
    "    class_weight=\"balanced\"\n",
    ")\n",
    "rf.fit(X_train, y_train)\n",
    "rf_preds = rf.predict(X_test)\n",
    "rf_probs = rf.predict_proba(X_test)[:,1]"
   ]
  },
  {
   "cell_type": "code",
   "execution_count": 25,
   "id": "cd6b72e5",
   "metadata": {},
   "outputs": [
    {
     "name": "stdout",
     "output_type": "stream",
     "text": [
      "\n",
      "=== Random Forest ===\n",
      "[[114   2]\n",
      " [  6 577]]\n",
      "              precision    recall  f1-score   support\n",
      "\n",
      "           0      0.950     0.983     0.966       116\n",
      "           1      0.997     0.990     0.993       583\n",
      "\n",
      "    accuracy                          0.989       699\n",
      "   macro avg      0.973     0.986     0.980       699\n",
      "weighted avg      0.989     0.989     0.989       699\n",
      "\n",
      "ROC-AUC: 0.9990536464186431\n",
      "Feature Importance (RF):\n",
      " Temperature_C    0.307541\n",
      "AccZ_g           0.193578\n",
      "Pressure_hPa     0.105807\n",
      "AngleY           0.081759\n",
      "Altitude_m       0.076355\n",
      "AngleX           0.071277\n",
      "AccY_g           0.066408\n",
      "AccX_g           0.056324\n",
      "AngleZ           0.040952\n",
      "dtype: float64\n"
     ]
    }
   ],
   "source": [
    "print(\"\\n=== Random Forest ===\")\n",
    "print(confusion_matrix(y_test, rf_preds))\n",
    "print(classification_report(y_test, rf_preds, digits=3))\n",
    "print(\"ROC-AUC:\", roc_auc_score(y_test, rf_probs))\n",
    "importances = pd.Series(rf.feature_importances_, index=X_train.columns).sort_values(ascending=False)\n",
    "print(\"Feature Importance (RF):\\n\", importances)"
   ]
  },
  {
   "cell_type": "code",
   "execution_count": 26,
   "id": "76dea07c",
   "metadata": {},
   "outputs": [
    {
     "data": {
      "image/png": "[encoded data removed]",
      "text/plain": [
       "<Figure size 600x500 with 1 Axes>"
      ]
     },
     "metadata": {},
     "output_type": "display_data"
    }
   ],
   "source": [
    "# y_test = true labels, y_pred = predictions from Random Forest (or XGBoost)\n",
    "cm = confusion_matrix(y_test, rf_preds)\n",
    "\n",
    "# Plot\n",
    "plt.figure(figsize=(6, 5))\n",
    "sns.heatmap(cm, annot=True, fmt=\"d\", cmap=\"Blues\", cbar=False,\n",
    "            xticklabels=[\"Normal (0)\", \"Anomaly (1)\"],\n",
    "            yticklabels=[\"Normal (0)\", \"Anomaly (1)\"])\n",
    "plt.title(\"Confusion Matrix - Random Forest\", fontsize=14)\n",
    "plt.xlabel(\"Predicted Label\", fontsize=12)\n",
    "plt.ylabel(\"True Label\", fontsize=12)\n",
    "plt.tight_layout()\n",
    "plt.show()"
   ]
  },
  {
   "cell_type": "markdown",
   "id": "1e33fcf2",
   "metadata": {},
   "source": [
    "### 7. Saving the Model"
   ]
  },
  {
   "cell_type": "code",
   "execution_count": 27,
   "id": "5341d9ed",
   "metadata": {},
   "outputs": [
    {
     "name": "stdout",
     "output_type": "stream",
     "text": [
      "Saved Random Forest to rf_model.joblib\n"
     ]
    }
   ],
   "source": [
    "import joblib\n",
    "import json\n",
    "\n",
    "rf_filename = \"rf_model.joblib\"\n",
    "scaler_filename = \"scaler.joblib\"\n",
    "meta_filename = \"model_meta.json\"\n",
    "\n",
    "# Save Random Forest (if present)\n",
    "try:\n",
    "    joblib.dump(rf, rf_filename)\n",
    "    print(\"Saved Random Forest to\", rf_filename)\n",
    "except NameError:\n",
    "    print(\"rf not defined — skipping RF save.\")"
   ]
  },
  {
   "cell_type": "code",
   "execution_count": 55,
   "id": "fc4847a9",
   "metadata": {},
   "outputs": [
    {
     "name": "stdout",
     "output_type": "stream",
     "text": [
      "Saved scaler to scaler.joblib\n"
     ]
    }
   ],
   "source": [
    "# Save scaler (if present)\n",
    "\n",
    "# Correct feature set: drop the label(s)\n",
    "X_train, y_train = train_df.drop(columns=[\"label\",\"Label\"], errors=\"ignore\"), train_df[\"label\"]\n",
    "\n",
    "# Fit scaler on the proper features only\n",
    "scaler = StandardScaler()\n",
    "scaler.fit(X_train)\n",
    "\n",
    "try:\n",
    "    joblib.dump(scaler, scaler_filename)\n",
    "    print(\"Saved scaler to\", scaler_filename)\n",
    "except NameError:\n",
    "    print(\"scaler not defined — skipping scaler save.\")\n"
   ]
  },
  {
   "cell_type": "code",
   "execution_count": 56,
   "id": "e7b8652e",
   "metadata": {},
   "outputs": [
    {
     "name": "stdout",
     "output_type": "stream",
     "text": [
      "Saved metadata to model_meta.json\n"
     ]
    }
   ],
   "source": [
    "# Save metadata (feature names + label encoder mapping if any)\n",
    "try:\n",
    "    meta = {\n",
    "        \"features\": features  # list of feature column names in exact order\n",
    "    }\n",
    "    with open(meta_filename, \"w\") as f:\n",
    "        json.dump(meta, f)\n",
    "    print(\"Saved metadata to\", meta_filename)\n",
    "except NameError:\n",
    "    print(\"feature_names not defined — save features list to meta file manually.\")"
   ]
  },
  {
   "cell_type": "markdown",
   "id": "ce7b81cb",
   "metadata": {},
   "source": [
    "### 8. Testing of the Random Forest Model."
   ]
  },
  {
   "cell_type": "code",
   "execution_count": 57,
   "id": "0842c1ff",
   "metadata": {},
   "outputs": [],
   "source": [
    "rf_filename = \"rf_model.joblib\"\n",
    "scaler_filename = \"scaler.joblib\"\n",
    "meta_filename = \"model_meta.json\"\n",
    "\n",
    "MODEL_TO_USE = \"rf\"\n",
    "\n",
    "if MODEL_TO_USE == \"rf\":\n",
    "    model = joblib.load(rf_filename)\n",
    "elif MODEL_TO_USE == \"xgb\":\n",
    "    print(f'In development')\n",
    "else:\n",
    "    raise ValueError(\"MODEL_TO_USE must be 'rf' or 'xgb'\")\n",
    "\n",
    "# scaler may be None if you didn't use one\n",
    "try:\n",
    "    scaler = joblib.load(scaler_filename)\n",
    "except Exception:\n",
    "    scaler = None"
   ]
  },
  {
   "cell_type": "code",
   "execution_count": 58,
   "id": "d8491b46",
   "metadata": {},
   "outputs": [],
   "source": [
    "with open(meta_filename, \"r\") as f:\n",
    "    meta = json.load(f)\n",
    "feature_names = meta[\"features\"]"
   ]
  },
  {
   "cell_type": "code",
   "execution_count": 59,
   "id": "8c9a064b",
   "metadata": {},
   "outputs": [
    {
     "data": {
      "text/plain": [
       "['Temperature_C',\n",
       " 'Pressure_hPa',\n",
       " 'AngleX',\n",
       " 'AngleY',\n",
       " 'AngleZ',\n",
       " 'AccX_g',\n",
       " 'AccY_g',\n",
       " 'AccZ_g',\n",
       " 'Altitude_m',\n",
       " 'Label']"
      ]
     },
     "execution_count": 59,
     "metadata": {},
     "output_type": "execute_result"
    }
   ],
   "source": [
    "feature_names"
   ]
  },
  {
   "cell_type": "code",
   "execution_count": 60,
   "id": "71d53e07",
   "metadata": {},
   "outputs": [
    {
     "name": "stdout",
     "output_type": "stream",
     "text": [
      "['Temperature_C', 'Pressure_hPa', 'AngleX', 'AngleY', 'AngleZ', 'AccX_g', 'AccY_g', 'AccZ_g', 'Altitude_m']\n"
     ]
    }
   ],
   "source": [
    "feature_names.remove('Label')\n",
    "print(feature_names)"
   ]
  },
  {
   "cell_type": "code",
   "execution_count": 61,
   "id": "85b73813",
   "metadata": {},
   "outputs": [
    {
     "name": "stdout",
     "output_type": "stream",
     "text": [
      "Model loaded. Using features: ['Temperature_C', 'Pressure_hPa', 'AngleX', 'AngleY', 'AngleZ', 'AccX_g', 'AccY_g', 'AccZ_g', 'Altitude_m']\n",
      "Scaler loaded: Yes\n"
     ]
    }
   ],
   "source": [
    "print(\"Model loaded. Using features:\", feature_names)\n",
    "print(\"Scaler loaded:\", \"Yes\" if scaler is not None else \"No\")"
   ]
  },
  {
   "cell_type": "code",
   "execution_count": null,
   "id": "4cc603aa",
   "metadata": {},
   "outputs": [],
   "source": [
    "values : list[float] = [30.25, 1012.45, -1.23, 0.45, 179.5, 0.012, -0.985, 0.043, 45.6]\n",
    "manual_sample : dict = {}\n",
    "for i in range(len(feature_names)-1):\n",
    "    manual_sample[feature_names[i]] = values[i]"
   ]
  },
  {
   "cell_type": "code",
   "execution_count": 63,
   "id": "d3a666dc",
   "metadata": {},
   "outputs": [],
   "source": [
    "# ---------- helper: prepare single sample ----------\n",
    "def prepare_sample(sample_dict):\n",
    "    \"\"\"\n",
    "    sample_dict: dict mapping feature name -> value for the same features used in training.\n",
    "                 e.g. {\"Temperature_C\": 28.5, \"Pressure_hPa\": 1013.4, ...}\n",
    "    Returns: X (1 x n_features) numpy array ready for model.predict/_proba\n",
    "    \"\"\"\n",
    "    # Create DataFrame with one row and exactly the feature order\n",
    "    row = {k: sample_dict.get(k, np.nan) for k in feature_names}\n",
    "    df = pd.DataFrame([row], columns=feature_names).fillna(0).astype(float)\n",
    "    # Scale if scaler present\n",
    "    if scaler is not None:\n",
    "        X = scaler.transform(df)   # pass DataFrame, not np.array\n",
    "    else:\n",
    "        X = df.values\n",
    "    return X"
   ]
  },
  {
   "cell_type": "code",
   "execution_count": 65,
   "id": "fff26924",
   "metadata": {},
   "outputs": [],
   "source": [
    "X_single = prepare_sample(manual_sample)"
   ]
  },
  {
   "cell_type": "code",
   "execution_count": 67,
   "id": "ee29311d",
   "metadata": {},
   "outputs": [
    {
     "data": {
      "text/plain": [
       "array([[-0.32763257,  1.32848514, -0.04542335,  0.06733924,  1.47988017,\n",
       "         0.07268836, -6.20509124, -4.01497347, -1.55230771]])"
      ]
     },
     "execution_count": 67,
     "metadata": {},
     "output_type": "execute_result"
    }
   ],
   "source": [
    "X_single"
   ]
  },
  {
   "cell_type": "code",
   "execution_count": 68,
   "id": "295dba5d",
   "metadata": {},
   "outputs": [
    {
     "name": "stderr",
     "output_type": "stream",
     "text": [
      "c:\\Users\\PMOKS\\anaconda3\\Lib\\site-packages\\sklearn\\base.py:493: UserWarning: X does not have valid feature names, but RandomForestClassifier was fitted with feature names\n",
      "  warnings.warn(\n",
      "c:\\Users\\PMOKS\\anaconda3\\Lib\\site-packages\\sklearn\\base.py:493: UserWarning: X does not have valid feature names, but RandomForestClassifier was fitted with feature names\n",
      "  warnings.warn(\n"
     ]
    }
   ],
   "source": [
    "# class labels: if you used LabelEncoder, 0=Normal,1=Anomaly (verify)\n",
    "proba = model.predict_proba(X_single)[0]  # returns [prob_class0, prob_class1]\n",
    "pred = model.predict(X_single)[0]"
   ]
  },
  {
   "cell_type": "code",
   "execution_count": null,
   "id": "517eb900",
   "metadata": {},
   "outputs": [
    {
     "name": "stdout",
     "output_type": "stream",
     "text": [
      "Prediction: 0 => Normal\n",
      "Confidence: 73.00%\n",
      "Probabilities: class0 (Normal)=0.7300, class1 (Anomaly)=0.2700\n"
     ]
    }
   ],
   "source": [
    "# interpret\n",
    "confidence = proba[pred]  # probability assigned to predicted class\n",
    "label_map = {0: \"Normal\", 1: \"Anomaly\"}  # adjust if encoder mapping differs\n",
    "\n",
    "print(\"Prediction:\", pred, \"=>\", label_map.get(pred, str(pred)))\n",
    "print(f\"Confidence: {confidence*100:.2f}%\")\n",
    "print(f\"Probabilities: class0 (Normal)={proba[0]:.4f}, class1 (Anomaly)={proba[1]:.4f}\")"
   ]
  }
 ],
 "metadata": {
  "kernelspec": {
   "display_name": "base",
   "language": "python",
   "name": "python3"
  },
  "language_info": {
   "codemirror_mode": {
    "name": "ipython",
    "version": 3
   },
   "file_extension": ".py",
   "mimetype": "text/x-python",
   "name": "python",
   "nbconvert_exporter": "python",
   "pygments_lexer": "ipython3",
   "version": "3.12.7"
  }
 },
 "nbformat": 4,
 "nbformat_minor": 5
}
