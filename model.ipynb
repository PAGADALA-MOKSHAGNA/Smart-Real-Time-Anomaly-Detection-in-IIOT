{
 "cells": [
  {
   "cell_type": "markdown",
   "id": "50cd0fbc",
   "metadata": {},
   "source": [
    "## Smart Real-Time Anomaly Detection in IIOT"
   ]
  },
  {
   "cell_type": "markdown",
   "id": "6cc64ef8",
   "metadata": {},
   "source": [
    "### 1. Importing the Data"
   ]
  },
  {
   "cell_type": "code",
   "execution_count": 1,
   "id": "6fb7a044",
   "metadata": {},
   "outputs": [],
   "source": [
    "import numpy as np\n",
    "import pandas as pd\n",
    "import matplotlib.pyplot as plt\n",
    "import seaborn as sns"
   ]
  },
  {
   "cell_type": "code",
   "execution_count": 2,
   "id": "c1f08595",
   "metadata": {},
   "outputs": [
    {
     "data": {
      "application/vnd.microsoft.datawrangler.viewer.v0+json": {
       "columns": [
        {
         "name": "index",
         "rawType": "int64",
         "type": "integer"
        },
        {
         "name": "Date",
         "rawType": "datetime64[ns]",
         "type": "datetime"
        },
        {
         "name": "Time",
         "rawType": "object",
         "type": "unknown"
        },
        {
         "name": "ESP_ms",
         "rawType": "int64",
         "type": "integer"
        },
        {
         "name": "Temperature_C",
         "rawType": "float64",
         "type": "float"
        },
        {
         "name": "Pressure_hPa",
         "rawType": "float64",
         "type": "float"
        },
        {
         "name": "AngleX",
         "rawType": "float64",
         "type": "float"
        },
        {
         "name": "AngleY",
         "rawType": "float64",
         "type": "float"
        },
        {
         "name": "AngleZ",
         "rawType": "float64",
         "type": "float"
        },
        {
         "name": "AccX_g",
         "rawType": "float64",
         "type": "float"
        },
        {
         "name": "AccY_g",
         "rawType": "float64",
         "type": "float"
        },
        {
         "name": "AccZ_g",
         "rawType": "float64",
         "type": "float"
        },
        {
         "name": "Altitude_m",
         "rawType": "float64",
         "type": "float"
        },
        {
         "name": "Result",
         "rawType": "object",
         "type": "string"
        }
       ],
       "ref": "486014b4-03d5-41e1-9832-d4c8f82de186",
       "rows": [
        [
         "0",
         "2025-09-09 00:00:00",
         "23:51:11.197000",
         "3924",
         "32.64",
         "976.15",
         "-1.1",
         "-0.52",
         "-2.77",
         "0.003",
         "0.006",
         "0.997",
         "313.59",
         "Normal"
        ],
        [
         "1",
         "2025-09-09 00:00:00",
         "23:51:14.191000",
         "6927",
         "32.65",
         "976.15",
         "-1.14",
         "-0.5",
         "-7.57",
         "0.002",
         "-0.002",
         "0.996",
         "313.54",
         "Normal"
        ],
        [
         "2",
         "2025-09-09 00:00:00",
         "23:51:17.192000",
         "9930",
         "32.65",
         "976.18",
         "-1.1",
         "-0.52",
         "-12.4",
         "0.003",
         "0.003",
         "0.989",
         "313.35",
         "Normal"
        ],
        [
         "3",
         "2025-09-09 00:00:00",
         "23:51:20.199000",
         "12933",
         "32.65",
         "976.14",
         "-1.21",
         "-0.54",
         "-17.25",
         "0.0",
         "0.0",
         "0.992",
         "313.62",
         "Normal"
        ],
        [
         "4",
         "2025-09-09 00:00:00",
         "23:51:23.201000",
         "15936",
         "32.65",
         "976.15",
         "-1.15",
         "-0.53",
         "-22.12",
         "0.002",
         "0.003",
         "0.994",
         "313.6",
         "Normal"
        ]
       ],
       "shape": {
        "columns": 13,
        "rows": 5
       }
      },
      "text/html": [
       "<div>\n",
       "<style scoped>\n",
       "    .dataframe tbody tr th:only-of-type {\n",
       "        vertical-align: middle;\n",
       "    }\n",
       "\n",
       "    .dataframe tbody tr th {\n",
       "        vertical-align: top;\n",
       "    }\n",
       "\n",
       "    .dataframe thead th {\n",
       "        text-align: right;\n",
       "    }\n",
       "</style>\n",
       "<table border=\"1\" class=\"dataframe\">\n",
       "  <thead>\n",
       "    <tr style=\"text-align: right;\">\n",
       "      <th></th>\n",
       "      <th>Date</th>\n",
       "      <th>Time</th>\n",
       "      <th>ESP_ms</th>\n",
       "      <th>Temperature_C</th>\n",
       "      <th>Pressure_hPa</th>\n",
       "      <th>AngleX</th>\n",
       "      <th>AngleY</th>\n",
       "      <th>AngleZ</th>\n",
       "      <th>AccX_g</th>\n",
       "      <th>AccY_g</th>\n",
       "      <th>AccZ_g</th>\n",
       "      <th>Altitude_m</th>\n",
       "      <th>Result</th>\n",
       "    </tr>\n",
       "  </thead>\n",
       "  <tbody>\n",
       "    <tr>\n",
       "      <th>0</th>\n",
       "      <td>2025-09-09</td>\n",
       "      <td>23:51:11.197000</td>\n",
       "      <td>3924</td>\n",
       "      <td>32.64</td>\n",
       "      <td>976.15</td>\n",
       "      <td>-1.10</td>\n",
       "      <td>-0.52</td>\n",
       "      <td>-2.77</td>\n",
       "      <td>0.003</td>\n",
       "      <td>0.006</td>\n",
       "      <td>0.997</td>\n",
       "      <td>313.59</td>\n",
       "      <td>Normal</td>\n",
       "    </tr>\n",
       "    <tr>\n",
       "      <th>1</th>\n",
       "      <td>2025-09-09</td>\n",
       "      <td>23:51:14.191000</td>\n",
       "      <td>6927</td>\n",
       "      <td>32.65</td>\n",
       "      <td>976.15</td>\n",
       "      <td>-1.14</td>\n",
       "      <td>-0.50</td>\n",
       "      <td>-7.57</td>\n",
       "      <td>0.002</td>\n",
       "      <td>-0.002</td>\n",
       "      <td>0.996</td>\n",
       "      <td>313.54</td>\n",
       "      <td>Normal</td>\n",
       "    </tr>\n",
       "    <tr>\n",
       "      <th>2</th>\n",
       "      <td>2025-09-09</td>\n",
       "      <td>23:51:17.192000</td>\n",
       "      <td>9930</td>\n",
       "      <td>32.65</td>\n",
       "      <td>976.18</td>\n",
       "      <td>-1.10</td>\n",
       "      <td>-0.52</td>\n",
       "      <td>-12.40</td>\n",
       "      <td>0.003</td>\n",
       "      <td>0.003</td>\n",
       "      <td>0.989</td>\n",
       "      <td>313.35</td>\n",
       "      <td>Normal</td>\n",
       "    </tr>\n",
       "    <tr>\n",
       "      <th>3</th>\n",
       "      <td>2025-09-09</td>\n",
       "      <td>23:51:20.199000</td>\n",
       "      <td>12933</td>\n",
       "      <td>32.65</td>\n",
       "      <td>976.14</td>\n",
       "      <td>-1.21</td>\n",
       "      <td>-0.54</td>\n",
       "      <td>-17.25</td>\n",
       "      <td>0.000</td>\n",
       "      <td>0.000</td>\n",
       "      <td>0.992</td>\n",
       "      <td>313.62</td>\n",
       "      <td>Normal</td>\n",
       "    </tr>\n",
       "    <tr>\n",
       "      <th>4</th>\n",
       "      <td>2025-09-09</td>\n",
       "      <td>23:51:23.201000</td>\n",
       "      <td>15936</td>\n",
       "      <td>32.65</td>\n",
       "      <td>976.15</td>\n",
       "      <td>-1.15</td>\n",
       "      <td>-0.53</td>\n",
       "      <td>-22.12</td>\n",
       "      <td>0.002</td>\n",
       "      <td>0.003</td>\n",
       "      <td>0.994</td>\n",
       "      <td>313.60</td>\n",
       "      <td>Normal</td>\n",
       "    </tr>\n",
       "  </tbody>\n",
       "</table>\n",
       "</div>"
      ],
      "text/plain": [
       "        Date             Time  ESP_ms  Temperature_C  Pressure_hPa  AngleX  \\\n",
       "0 2025-09-09  23:51:11.197000    3924          32.64        976.15   -1.10   \n",
       "1 2025-09-09  23:51:14.191000    6927          32.65        976.15   -1.14   \n",
       "2 2025-09-09  23:51:17.192000    9930          32.65        976.18   -1.10   \n",
       "3 2025-09-09  23:51:20.199000   12933          32.65        976.14   -1.21   \n",
       "4 2025-09-09  23:51:23.201000   15936          32.65        976.15   -1.15   \n",
       "\n",
       "   AngleY  AngleZ  AccX_g  AccY_g  AccZ_g  Altitude_m  Result  \n",
       "0   -0.52   -2.77   0.003   0.006   0.997      313.59  Normal  \n",
       "1   -0.50   -7.57   0.002  -0.002   0.996      313.54  Normal  \n",
       "2   -0.52  -12.40   0.003   0.003   0.989      313.35  Normal  \n",
       "3   -0.54  -17.25   0.000   0.000   0.992      313.62  Normal  \n",
       "4   -0.53  -22.12   0.002   0.003   0.994      313.60  Normal  "
      ]
     },
     "execution_count": 2,
     "metadata": {},
     "output_type": "execute_result"
    }
   ],
   "source": [
    "data = pd.read_excel(\"dataset.xlsx\")\n",
    "data.head()"
   ]
  },
  {
   "cell_type": "code",
   "execution_count": 3,
   "id": "6472e72a",
   "metadata": {},
   "outputs": [
    {
     "data": {
      "text/plain": [
       "Index(['Date', 'Time', 'ESP_ms', 'Temperature_C', 'Pressure_hPa', 'AngleX',\n",
       "       'AngleY', 'AngleZ', 'AccX_g', 'AccY_g', 'AccZ_g', 'Altitude_m',\n",
       "       'Result'],\n",
       "      dtype='object')"
      ]
     },
     "execution_count": 3,
     "metadata": {},
     "output_type": "execute_result"
    }
   ],
   "source": [
    "data.columns"
   ]
  },
  {
   "cell_type": "code",
   "execution_count": 4,
   "id": "2580b56d",
   "metadata": {},
   "outputs": [
    {
     "data": {
      "application/vnd.microsoft.datawrangler.viewer.v0+json": {
       "columns": [
        {
         "name": "index",
         "rawType": "object",
         "type": "string"
        },
        {
         "name": "Date",
         "rawType": "object",
         "type": "unknown"
        },
        {
         "name": "ESP_ms",
         "rawType": "float64",
         "type": "float"
        },
        {
         "name": "Temperature_C",
         "rawType": "float64",
         "type": "float"
        },
        {
         "name": "Pressure_hPa",
         "rawType": "float64",
         "type": "float"
        },
        {
         "name": "AngleX",
         "rawType": "float64",
         "type": "float"
        },
        {
         "name": "AngleY",
         "rawType": "float64",
         "type": "float"
        },
        {
         "name": "AngleZ",
         "rawType": "float64",
         "type": "float"
        },
        {
         "name": "AccX_g",
         "rawType": "float64",
         "type": "float"
        },
        {
         "name": "AccY_g",
         "rawType": "float64",
         "type": "float"
        },
        {
         "name": "AccZ_g",
         "rawType": "float64",
         "type": "float"
        },
        {
         "name": "Altitude_m",
         "rawType": "float64",
         "type": "float"
        }
       ],
       "ref": "44ba9906-8ae4-430f-938d-fe749a97ee3d",
       "rows": [
        [
         "count",
         "2122",
         "2122.0",
         "2122.0",
         "2122.0",
         "2122.0",
         "2122.0",
         "2122.0",
         "2122.0",
         "2122.0",
         "2122.0",
         "2122.0"
        ],
        [
         "mean",
         "2025-09-09 21:59:53.213949184",
         "1129339.9976437322",
         "32.2031903864279",
         "975.9494580584354",
         "-0.6185249764373232",
         "-0.9708623939679548",
         "-1875.105683317625",
         "0.005901508011310086",
         "0.0063746465598491986",
         "0.9822214891611687",
         "315.2899151743638"
        ],
        [
         "min",
         "2025-09-09 00:00:00",
         "3924.0",
         "31.41",
         "975.36",
         "-58.16",
         "-89.32",
         "-4749.75",
         "-2.196",
         "-0.676",
         "-0.448",
         "122.86"
        ],
        [
         "25%",
         "2025-09-10 00:00:00",
         "535455.0",
         "31.73",
         "975.8",
         "-1.49",
         "-1.88",
         "-2682.5",
         "-0.019",
         "-0.004",
         "0.989",
         "313.9225"
        ],
        [
         "50%",
         "2025-09-10 00:00:00",
         "1066986.0",
         "32.1",
         "975.93",
         "-1.25",
         "-0.55",
         "-1795.9850000000001",
         "0.0015",
         "-0.001",
         "0.994",
         "315.43"
        ],
        [
         "75%",
         "2025-09-10 00:00:00",
         "1598517.0",
         "32.34",
         "976.11",
         "-1.06",
         "0.62",
         "-876.7875",
         "0.026",
         "0.002",
         "0.997",
         "316.61"
        ],
        [
         "max",
         "2025-09-10 00:00:00",
         "2856774.0",
         "36.58",
         "998.58",
         "113.3",
         "79.41",
         "21.22",
         "1.019",
         "1.807",
         "2.046",
         "320.3"
        ],
        [
         "std",
         null,
         "722195.2033247924",
         "0.7552256114739824",
         "0.937209053207474",
         "7.880364382569062",
         "7.340480732818675",
         "1191.394591877972",
         "0.12949625756676225",
         "0.10346912604856798",
         "0.11334635620070306",
         "7.9772926847630385"
        ]
       ],
       "shape": {
        "columns": 11,
        "rows": 8
       }
      },
      "text/html": [
       "<div>\n",
       "<style scoped>\n",
       "    .dataframe tbody tr th:only-of-type {\n",
       "        vertical-align: middle;\n",
       "    }\n",
       "\n",
       "    .dataframe tbody tr th {\n",
       "        vertical-align: top;\n",
       "    }\n",
       "\n",
       "    .dataframe thead th {\n",
       "        text-align: right;\n",
       "    }\n",
       "</style>\n",
       "<table border=\"1\" class=\"dataframe\">\n",
       "  <thead>\n",
       "    <tr style=\"text-align: right;\">\n",
       "      <th></th>\n",
       "      <th>Date</th>\n",
       "      <th>ESP_ms</th>\n",
       "      <th>Temperature_C</th>\n",
       "      <th>Pressure_hPa</th>\n",
       "      <th>AngleX</th>\n",
       "      <th>AngleY</th>\n",
       "      <th>AngleZ</th>\n",
       "      <th>AccX_g</th>\n",
       "      <th>AccY_g</th>\n",
       "      <th>AccZ_g</th>\n",
       "      <th>Altitude_m</th>\n",
       "    </tr>\n",
       "  </thead>\n",
       "  <tbody>\n",
       "    <tr>\n",
       "      <th>count</th>\n",
       "      <td>2122</td>\n",
       "      <td>2.122000e+03</td>\n",
       "      <td>2122.000000</td>\n",
       "      <td>2122.000000</td>\n",
       "      <td>2122.000000</td>\n",
       "      <td>2122.000000</td>\n",
       "      <td>2122.000000</td>\n",
       "      <td>2122.000000</td>\n",
       "      <td>2122.000000</td>\n",
       "      <td>2122.000000</td>\n",
       "      <td>2122.000000</td>\n",
       "    </tr>\n",
       "    <tr>\n",
       "      <th>mean</th>\n",
       "      <td>2025-09-09 21:59:53.213949184</td>\n",
       "      <td>1.129340e+06</td>\n",
       "      <td>32.203190</td>\n",
       "      <td>975.949458</td>\n",
       "      <td>-0.618525</td>\n",
       "      <td>-0.970862</td>\n",
       "      <td>-1875.105683</td>\n",
       "      <td>0.005902</td>\n",
       "      <td>0.006375</td>\n",
       "      <td>0.982221</td>\n",
       "      <td>315.289915</td>\n",
       "    </tr>\n",
       "    <tr>\n",
       "      <th>min</th>\n",
       "      <td>2025-09-09 00:00:00</td>\n",
       "      <td>3.924000e+03</td>\n",
       "      <td>31.410000</td>\n",
       "      <td>975.360000</td>\n",
       "      <td>-58.160000</td>\n",
       "      <td>-89.320000</td>\n",
       "      <td>-4749.750000</td>\n",
       "      <td>-2.196000</td>\n",
       "      <td>-0.676000</td>\n",
       "      <td>-0.448000</td>\n",
       "      <td>122.860000</td>\n",
       "    </tr>\n",
       "    <tr>\n",
       "      <th>25%</th>\n",
       "      <td>2025-09-10 00:00:00</td>\n",
       "      <td>5.354550e+05</td>\n",
       "      <td>31.730000</td>\n",
       "      <td>975.800000</td>\n",
       "      <td>-1.490000</td>\n",
       "      <td>-1.880000</td>\n",
       "      <td>-2682.500000</td>\n",
       "      <td>-0.019000</td>\n",
       "      <td>-0.004000</td>\n",
       "      <td>0.989000</td>\n",
       "      <td>313.922500</td>\n",
       "    </tr>\n",
       "    <tr>\n",
       "      <th>50%</th>\n",
       "      <td>2025-09-10 00:00:00</td>\n",
       "      <td>1.066986e+06</td>\n",
       "      <td>32.100000</td>\n",
       "      <td>975.930000</td>\n",
       "      <td>-1.250000</td>\n",
       "      <td>-0.550000</td>\n",
       "      <td>-1795.985000</td>\n",
       "      <td>0.001500</td>\n",
       "      <td>-0.001000</td>\n",
       "      <td>0.994000</td>\n",
       "      <td>315.430000</td>\n",
       "    </tr>\n",
       "    <tr>\n",
       "      <th>75%</th>\n",
       "      <td>2025-09-10 00:00:00</td>\n",
       "      <td>1.598517e+06</td>\n",
       "      <td>32.340000</td>\n",
       "      <td>976.110000</td>\n",
       "      <td>-1.060000</td>\n",
       "      <td>0.620000</td>\n",
       "      <td>-876.787500</td>\n",
       "      <td>0.026000</td>\n",
       "      <td>0.002000</td>\n",
       "      <td>0.997000</td>\n",
       "      <td>316.610000</td>\n",
       "    </tr>\n",
       "    <tr>\n",
       "      <th>max</th>\n",
       "      <td>2025-09-10 00:00:00</td>\n",
       "      <td>2.856774e+06</td>\n",
       "      <td>36.580000</td>\n",
       "      <td>998.580000</td>\n",
       "      <td>113.300000</td>\n",
       "      <td>79.410000</td>\n",
       "      <td>21.220000</td>\n",
       "      <td>1.019000</td>\n",
       "      <td>1.807000</td>\n",
       "      <td>2.046000</td>\n",
       "      <td>320.300000</td>\n",
       "    </tr>\n",
       "    <tr>\n",
       "      <th>std</th>\n",
       "      <td>NaN</td>\n",
       "      <td>7.221952e+05</td>\n",
       "      <td>0.755226</td>\n",
       "      <td>0.937209</td>\n",
       "      <td>7.880364</td>\n",
       "      <td>7.340481</td>\n",
       "      <td>1191.394592</td>\n",
       "      <td>0.129496</td>\n",
       "      <td>0.103469</td>\n",
       "      <td>0.113346</td>\n",
       "      <td>7.977293</td>\n",
       "    </tr>\n",
       "  </tbody>\n",
       "</table>\n",
       "</div>"
      ],
      "text/plain": [
       "                                Date        ESP_ms  Temperature_C  \\\n",
       "count                           2122  2.122000e+03    2122.000000   \n",
       "mean   2025-09-09 21:59:53.213949184  1.129340e+06      32.203190   \n",
       "min              2025-09-09 00:00:00  3.924000e+03      31.410000   \n",
       "25%              2025-09-10 00:00:00  5.354550e+05      31.730000   \n",
       "50%              2025-09-10 00:00:00  1.066986e+06      32.100000   \n",
       "75%              2025-09-10 00:00:00  1.598517e+06      32.340000   \n",
       "max              2025-09-10 00:00:00  2.856774e+06      36.580000   \n",
       "std                              NaN  7.221952e+05       0.755226   \n",
       "\n",
       "       Pressure_hPa       AngleX       AngleY       AngleZ       AccX_g  \\\n",
       "count   2122.000000  2122.000000  2122.000000  2122.000000  2122.000000   \n",
       "mean     975.949458    -0.618525    -0.970862 -1875.105683     0.005902   \n",
       "min      975.360000   -58.160000   -89.320000 -4749.750000    -2.196000   \n",
       "25%      975.800000    -1.490000    -1.880000 -2682.500000    -0.019000   \n",
       "50%      975.930000    -1.250000    -0.550000 -1795.985000     0.001500   \n",
       "75%      976.110000    -1.060000     0.620000  -876.787500     0.026000   \n",
       "max      998.580000   113.300000    79.410000    21.220000     1.019000   \n",
       "std        0.937209     7.880364     7.340481  1191.394592     0.129496   \n",
       "\n",
       "            AccY_g       AccZ_g   Altitude_m  \n",
       "count  2122.000000  2122.000000  2122.000000  \n",
       "mean      0.006375     0.982221   315.289915  \n",
       "min      -0.676000    -0.448000   122.860000  \n",
       "25%      -0.004000     0.989000   313.922500  \n",
       "50%      -0.001000     0.994000   315.430000  \n",
       "75%       0.002000     0.997000   316.610000  \n",
       "max       1.807000     2.046000   320.300000  \n",
       "std       0.103469     0.113346     7.977293  "
      ]
     },
     "execution_count": 4,
     "metadata": {},
     "output_type": "execute_result"
    }
   ],
   "source": [
    "data.describe()"
   ]
  },
  {
   "cell_type": "code",
   "execution_count": 6,
   "id": "bd979d3b",
   "metadata": {},
   "outputs": [
    {
     "data": {
      "application/vnd.microsoft.datawrangler.viewer.v0+json": {
       "columns": [
        {
         "name": "index",
         "rawType": "object",
         "type": "string"
        },
        {
         "name": "0",
         "rawType": "int64",
         "type": "integer"
        }
       ],
       "ref": "74962fdb-042d-4666-bd0f-ae1a9d81ec8f",
       "rows": [
        [
         "Date",
         "0"
        ],
        [
         "Time",
         "0"
        ],
        [
         "ESP_ms",
         "0"
        ],
        [
         "Temperature_C",
         "0"
        ],
        [
         "Pressure_hPa",
         "0"
        ],
        [
         "AngleX",
         "0"
        ],
        [
         "AngleY",
         "0"
        ],
        [
         "AngleZ",
         "0"
        ],
        [
         "AccX_g",
         "0"
        ],
        [
         "AccY_g",
         "0"
        ],
        [
         "AccZ_g",
         "0"
        ],
        [
         "Altitude_m",
         "0"
        ],
        [
         "Result",
         "0"
        ]
       ],
       "shape": {
        "columns": 1,
        "rows": 13
       }
      },
      "text/plain": [
       "Date             0\n",
       "Time             0\n",
       "ESP_ms           0\n",
       "Temperature_C    0\n",
       "Pressure_hPa     0\n",
       "AngleX           0\n",
       "AngleY           0\n",
       "AngleZ           0\n",
       "AccX_g           0\n",
       "AccY_g           0\n",
       "AccZ_g           0\n",
       "Altitude_m       0\n",
       "Result           0\n",
       "dtype: int64"
      ]
     },
     "execution_count": 6,
     "metadata": {},
     "output_type": "execute_result"
    }
   ],
   "source": [
    "data.isnull().sum()"
   ]
  },
  {
   "cell_type": "code",
   "execution_count": 7,
   "id": "d80f23b9",
   "metadata": {},
   "outputs": [
    {
     "data": {
      "application/vnd.microsoft.datawrangler.viewer.v0+json": {
       "columns": [
        {
         "name": "Result",
         "rawType": "object",
         "type": "string"
        },
        {
         "name": "count",
         "rawType": "int64",
         "type": "integer"
        }
       ],
       "ref": "e7135cb4-9a27-421b-8f3a-e938d2eeeec0",
       "rows": [
        [
         "Normal",
         "1967"
        ],
        [
         "Anomaly",
         "155"
        ]
       ],
       "shape": {
        "columns": 1,
        "rows": 2
       }
      },
      "text/plain": [
       "Result\n",
       "Normal     1967\n",
       "Anomaly     155\n",
       "Name: count, dtype: int64"
      ]
     },
     "execution_count": 7,
     "metadata": {},
     "output_type": "execute_result"
    }
   ],
   "source": [
    "data['Result'].value_counts()"
   ]
  },
  {
   "cell_type": "markdown",
   "id": "cc92f0b1",
   "metadata": {},
   "source": [
    "### 2. Outlier Detection"
   ]
  },
  {
   "cell_type": "markdown",
   "id": "1817c0d9",
   "metadata": {},
   "source": [
    "Plotting the Box-Plot to identify or evaluate the outliers in the Dataset."
   ]
  },
  {
   "cell_type": "code",
   "execution_count": null,
   "id": "9d560a8b",
   "metadata": {},
   "outputs": [
    {
     "data": {
      "image/png": "[encoded data removed]",
      "text/plain": [
       "<Figure size 1500x500 with 10 Axes>"
      ]
     },
     "metadata": {},
     "output_type": "display_data"
    }
   ],
   "source": [
    "data.plot(kind='box', subplots=True, layout=(1,len(data.select_dtypes(include='number').columns)), figsize=(15,5))\n",
    "plt.tight_layout()\n",
    "plt.show()"
   ]
  },
  {
   "cell_type": "code",
   "execution_count": null,
   "id": "132ca826",
   "metadata": {},
   "outputs": [],
   "source": []
  }
 ],
 "metadata": {
  "kernelspec": {
   "display_name": "base",
   "language": "python",
   "name": "python3"
  },
  "language_info": {
   "codemirror_mode": {
    "name": "ipython",
    "version": 3
   },
   "file_extension": ".py",
   "mimetype": "text/x-python",
   "name": "python",
   "nbconvert_exporter": "python",
   "pygments_lexer": "ipython3",
   "version": "3.12.7"
  }
 },
 "nbformat": 4,
 "nbformat_minor": 5
}
